{
 "cells": [
  {
   "cell_type": "markdown",
   "metadata": {},
   "source": [
    "Extracción Transformación y Carga de los Datos "
   ]
  },
  {
   "cell_type": "markdown",
   "metadata": {},
   "source": [
    "Paso 1: Cargamos al DataFrame"
   ]
  },
  {
   "cell_type": "code",
   "execution_count": 217,
   "metadata": {},
   "outputs": [
    {
     "name": "stderr",
     "output_type": "stream",
     "text": [
      "C:\\Users\\Dalgy\\AppData\\Local\\Temp\\ipykernel_19408\\2671923904.py:5: DtypeWarning: Columns (10) have mixed types. Specify dtype option on import or set low_memory=False.\n",
      "  df = pd.read_csv('Dataset/Originales/movies_dataset.csv')\n"
     ]
    }
   ],
   "source": [
    "import pandas as pd   # Libreria Necesaria para manipular los datos y estructura.\n",
    "import ast            # Libreria necesario para la desanidacion de campos en varias columnas.\n",
    "\n",
    "# Cargamos el Data Frame con el origen o fuente de los datos (archivo CSV)\n",
    "df = pd.read_csv('Dataset/Originales/movies_dataset.csv')"
   ]
  },
  {
   "cell_type": "markdown",
   "metadata": {},
   "source": [
    "Paso 2: Tratamiento de los datos"
   ]
  },
  {
   "cell_type": "code",
   "execution_count": 218,
   "metadata": {},
   "outputs": [],
   "source": [
    "df = df.drop(columns=['adult','homepage','poster_path', 'imdb_id', 'original_title','video'])\n",
    "# Se eliminaron estas columnas segun la guia, no seran necesarias en esta oportunidad."
   ]
  },
  {
   "cell_type": "code",
   "execution_count": 219,
   "metadata": {},
   "outputs": [
    {
     "data": {
      "text/plain": [
       "belongs_to_collection    40972\n",
       "tagline                  25054\n",
       "overview                   954\n",
       "runtime                    263\n",
       "status                      87\n",
       "release_date                87\n",
       "original_language           11\n",
       "vote_average                 6\n",
       "revenue                      6\n",
       "spoken_languages             6\n",
       "vote_count                   6\n",
       "title                        6\n",
       "popularity                   5\n",
       "production_countries         3\n",
       "production_companies         3\n",
       "budget                       0\n",
       "id                           0\n",
       "genres                       0\n",
       "dtype: int64"
      ]
     },
     "execution_count": 219,
     "metadata": {},
     "output_type": "execute_result"
    }
   ],
   "source": [
    "# Validamos de nuevo el total de nulos por campo de la data\n",
    "df.isnull().sum().sort_values(ascending=False)"
   ]
  },
  {
   "cell_type": "code",
   "execution_count": 220,
   "metadata": {},
   "outputs": [],
   "source": [
    "# Segun el listado anterior de campos y su total de nulos por cada campo, iniciamos transformando los datos nulos listados en el EDA\n",
    "\n",
    "df['belongs_to_collection'].isnull().sum() ## Contamos los nulos\n",
    "# Verificamos y encontramos para la columna 'belongs_to_collection' 40.972 valores en nulo.\n",
    "# El valor de los no nulos es cadena que contiene un formato diccionario, por lo tanto rellenamos los nulos con una lista de diccionario vacio.\n",
    "df['belongs_to_collection'] = df['belongs_to_collection'].fillna('{}')"
   ]
  },
  {
   "cell_type": "code",
   "execution_count": 221,
   "metadata": {},
   "outputs": [],
   "source": [
    "df['tagline'].value_counts(dropna=False).sort_values(ascending=False)\n",
    "# Verificamos y encontramos para la columna 'tagline' 25.054 valores en nulo.\n",
    "# El valor de los no nulos es cadena sin algun tipo de formato, por lo tanto rellenamos los nulos con la opcion para el modelo \"sin preferencias\".\n",
    "df['tagline'] = df['tagline'].fillna('sin preferencias')"
   ]
  },
  {
   "cell_type": "code",
   "execution_count": 222,
   "metadata": {},
   "outputs": [],
   "source": [
    "df['overview'].value_counts(dropna=False).sort_values(ascending=False)\n",
    "# Verificamos y encontramos para la columna 'overview' 954 valores en nulo.\n",
    "# Tambien encontramos redundancia entre el valor \"No overview found\" y \"No Overview\", por lo que reemplazaremos con \"sin descripcion\".\n",
    "# Rellenaremos los campos NaN de la misma forma que el paso anterior \"sin descripcion\", para unificar valores\n",
    "df['overview'] = df['overview'].replace(['No overview found.', 'No Overview'], 'Sin descripción')\n",
    "# Rellenar NaNs\n",
    "df['overview'] = df['overview'].fillna('Sin descripción')"
   ]
  },
  {
   "cell_type": "markdown",
   "metadata": {},
   "source": [
    "Runtime"
   ]
  },
  {
   "cell_type": "code",
   "execution_count": 223,
   "metadata": {},
   "outputs": [
    {
     "name": "stdout",
     "output_type": "stream",
     "text": [
      "Número total de NaN : 263\n",
      "Número de valores en cero: 1558\n"
     ]
    }
   ],
   "source": [
    "# Verificamos de nuevo y encontramos para la columna 'runtime' \n",
    "# Esta columna contiene valores numericos por lo tanto realizaremos varias consultas.\n",
    "# 1 Contar los NaN y valores en cero\n",
    "numero_nan_total = df['runtime'].isnull().sum()\n",
    "# Mostrar la cantidad de NaN\n",
    "print(f\"Número total de NaN : {numero_nan_total}\")\n",
    "conteo_ceros = (df['runtime'] == 0).sum()\n",
    "# Mostrar la cantidad de ceros\n",
    "print(f\"Número de valores en cero: {conteo_ceros}\")"
   ]
  },
  {
   "cell_type": "code",
   "execution_count": 224,
   "metadata": {},
   "outputs": [
    {
     "name": "stdout",
     "output_type": "stream",
     "text": [
      "10 valores más altos:\n",
      "24178    1256.0\n",
      "19965    1140.0\n",
      "40938    1140.0\n",
      "13767     931.0\n",
      "13953     925.0\n",
      "Name: runtime, dtype: float64\n",
      "10 valores más bajos:\n"
     ]
    }
   ],
   "source": [
    "# 2 Consultamos algunos valore altos y bajos para identificar outliers \n",
    "valores_mas_altos = df['runtime'].nlargest(5)\n",
    "# Mostrar los resultados\n",
    "print(\"10 valores más altos:\")\n",
    "print(valores_mas_altos)\n",
    "\n",
    "# Listar los 10 valores más bajos\n",
    "valores_mas_bajos = df['runtime'].nsmallest(5)\n",
    "# Mostrar los resultados\n",
    "print(\"10 valores más bajos:\")\n",
    "#print(valores_mas_bajos)\n",
    "\n",
    "# Analisis: los datos presentan uniformidad y no se evidencia una distancia atipica."
   ]
  },
  {
   "cell_type": "code",
   "execution_count": 225,
   "metadata": {},
   "outputs": [
    {
     "name": "stdout",
     "output_type": "stream",
     "text": [
      "intervalo\n",
      "0-99         27774\n",
      "100-199      17077\n",
      "200-299        232\n",
      "300-399         65\n",
      "400-499         23\n",
      "500-599         14\n",
      "600-699          5\n",
      "700-799          3\n",
      "800-899          4\n",
      "900-999          3\n",
      "1000-1099        0\n",
      "1100-1199        2\n",
      "1200-1299        1\n",
      "Name: count, dtype: int64\n"
     ]
    }
   ],
   "source": [
    "# 3 Consultar por rangos para analisar la distribucion de los datos en \"runtime\"\n",
    "\n",
    "# Definir los límites de los bins\n",
    "bins = range(0, 1400, 100)  # Desde 0 hasta 1300, cada 100\n",
    "# Crear las etiquetas para cada intervalo\n",
    "labels = [f'{i}-{i + 99}' for i in bins[:-1]]\n",
    "# Usar pd.cut() para categorizar 'runtime'\n",
    "df['intervalo'] = pd.cut(df['runtime'], bins=bins, right=False, labels=labels)\n",
    "# Contar cuántos valores hay en cada intervalo\n",
    "conteo_intervalos = df['intervalo'].value_counts().sort_index()\n",
    "print(conteo_intervalos)\n",
    "# Mostrar los resultados\n",
    "# print(conteo_intervalos)\n",
    "# Analisis, fragmentacion de los datos nos muestra que la mayoria de datos estan entre valores de 0 a 100, seguido de 100 a 200, \n",
    "# entre esos dos rangos esta la mayor cantidad de datos.\n",
    "\n",
    "# Eliminar la solo la columna 'intervalo', pues la usamos para entender la distribucion de los datos.\n",
    "# df = df.drop('intervalo', axis=1)\n",
    "df = df.drop(columns=['intervalo'])"
   ]
  },
  {
   "cell_type": "code",
   "execution_count": 226,
   "metadata": {},
   "outputs": [],
   "source": [
    "# Procedimiento para la columna \"runtime\"\n",
    "# Los 263 datos NaN, seran transformados en el grupo de los ceros de 1558\n",
    "df['runtime'] = df['runtime'].fillna(0)"
   ]
  },
  {
   "cell_type": "code",
   "execution_count": 227,
   "metadata": {},
   "outputs": [],
   "source": [
    "df['status'].value_counts(dropna=False).sort_values(ascending=False)\n",
    "# Encontramos 87 datos NaN, entre los demas estados del registro.\n",
    "# Procedemos a rellenar con un estado denominado \"sin clasificar\"\n",
    "df['status'] = df['status'].fillna('unclassified')"
   ]
  },
  {
   "cell_type": "code",
   "execution_count": 228,
   "metadata": {},
   "outputs": [
    {
     "data": {
      "text/plain": [
       "' # Realizaremos interpolacion para las fechas nulas, usando el id de creacion del registro,\\n# para lo cual usaremos las fechas adyacentes para reemplazar los valores NaN\\n# Debemos garantizar que solo afectaremos los 87 registros nulos y no otros registros, \\n# Paso 1: Copiamos la data original para compararla luego con la data resultante, la diferencia debe dar 87 registros transformados.\\nestado_original = df[\\'release_date\\'].copy()\\n# Paso 2: Rellenamos valores faltantes hacia adelante(fecha posterior) o hacia atras (fecha anterior) \\ndf[\\'release_date\\'] = df.groupby(\\'id\\')[\\'release_date\\'].ffill().bfill()\\n# Paso 3: Comparar cuántos registros cambiaron para estar seguros de no haber modificado las fechas originales.\\nregistros_cambiados = (estado_original != df[\\'release_date\\']).sum()\\nprint(f\"Registros cambiados: {registros_cambiados}\") '"
      ]
     },
     "execution_count": 228,
     "metadata": {},
     "output_type": "execute_result"
    }
   ],
   "source": [
    "'''Requerimiento del Proyecto'''\n",
    "\n",
    "# Por ser un requerimiento del proyecto se procede a eliminar las fechas nulas\n",
    "df['release_date'].isnull().sum()  # contamos los nulos\n",
    "# Eliminar filas donde la columna 'fecha' sea nula (NaN)\n",
    "# Encontramos 87 valores nulos en esta columna.\n",
    "df = df.dropna(subset=['release_date'])\n",
    "\n",
    "#Nota: Es un campo muy importante en el proyecto, por lo que podria ser buena opcion la siguiente:\n",
    "''' # Realizaremos interpolacion para las fechas nulas, usando el id de creacion del registro,\n",
    "# para lo cual usaremos las fechas adyacentes para reemplazar los valores NaN\n",
    "# Debemos garantizar que solo afectaremos los 87 registros nulos y no otros registros, \n",
    "# Paso 1: Copiamos la data original para compararla luego con la data resultante, la diferencia debe dar 87 registros transformados.\n",
    "estado_original = df['release_date'].copy()\n",
    "# Paso 2: Rellenamos valores faltantes hacia adelante(fecha posterior) o hacia atras (fecha anterior) \n",
    "df['release_date'] = df.groupby('id')['release_date'].ffill().bfill()\n",
    "# Paso 3: Comparar cuántos registros cambiaron para estar seguros de no haber modificado las fechas originales.\n",
    "registros_cambiados = (estado_original != df['release_date']).sum()\n",
    "print(f\"Registros cambiados: {registros_cambiados}\") '''"
   ]
  },
  {
   "cell_type": "code",
   "execution_count": 229,
   "metadata": {},
   "outputs": [],
   "source": [
    "df['original_language'].value_counts(dropna=False).sort_values(ascending=False)\n",
    "df['original_language'].isnull().sum() ## Contamos los nulos\n",
    "# Verificamos y encontramos para la columna 'original_language' 11 valores en nulo.\n",
    "# El valor de los no nulos es cadena sin algun tipo de formato, por lo tanto rellenamos los nulos con la opcion para el modelo \"sin preferencias\".\n",
    "df['original_language'] = df['original_language'].fillna('desconocido')"
   ]
  },
  {
   "cell_type": "code",
   "execution_count": 230,
   "metadata": {},
   "outputs": [],
   "source": [
    "#df['vote_average'].value_counts(dropna=False).sort_values(ascending=False)\n",
    "#print(df['vote_average'].isnull().sum()) ## Contamos los nulos\n",
    "# Rellenamos con 0.0 como valor indicativo de no calificacion.\n",
    "df['vote_average'] = df['vote_average'].fillna(0.0)"
   ]
  },
  {
   "cell_type": "code",
   "execution_count": 231,
   "metadata": {},
   "outputs": [],
   "source": [
    "# No se evidencias Outlaier\n",
    "df['vote_count'].value_counts(dropna=False).sort_values(ascending=False)\n",
    "df['vote_count'].isnull().sum() ## Contamos los nulos\n",
    "# Rellenamos con 0.0 como valor indicativo de no calificacion.\n",
    "df['vote_count'] = df['vote_count'].fillna(0.0)"
   ]
  },
  {
   "cell_type": "code",
   "execution_count": 232,
   "metadata": {},
   "outputs": [],
   "source": [
    "df['title'].isnull().sum()  # contamos los nulos\n",
    "# Eliminar filas donde la columna 'fecha' sea nula (NaN)\n",
    "# Encontramos 87 valores nulos en esta columna.\n",
    "df = df.dropna(subset=['title'])"
   ]
  },
  {
   "cell_type": "code",
   "execution_count": 233,
   "metadata": {},
   "outputs": [
    {
     "data": {
      "text/plain": [
       "belongs_to_collection    0\n",
       "budget                   0\n",
       "genres                   0\n",
       "id                       0\n",
       "original_language        0\n",
       "overview                 0\n",
       "popularity               0\n",
       "production_companies     0\n",
       "production_countries     0\n",
       "release_date             0\n",
       "revenue                  0\n",
       "runtime                  0\n",
       "spoken_languages         0\n",
       "status                   0\n",
       "tagline                  0\n",
       "title                    0\n",
       "vote_average             0\n",
       "vote_count               0\n",
       "dtype: int64"
      ]
     },
     "execution_count": 233,
     "metadata": {},
     "output_type": "execute_result"
    }
   ],
   "source": [
    "# Validamos de nuevo los nulos en la data y no se encuentran mas.\n",
    "df.isnull().sum().sort_values(ascending=False)"
   ]
  },
  {
   "cell_type": "markdown",
   "metadata": {},
   "source": [
    "Ahora que no tenemos nulos podemos, desanidar las columnas que contienen diccionarios o listas de diccionarios, sin embargo antes de hacerlo debemos tratar sus campos y valores."
   ]
  },
  {
   "cell_type": "code",
   "execution_count": 234,
   "metadata": {},
   "outputs": [],
   "source": [
    "# Una vez corroborados que las columnas a desanidaar este con la caracteristicas de lista de diccionarios,\n",
    "# Procedemos a crear una sola funcion para todas ellas, pues el patron en comun el la clave 'name' en sus diccionarios\n",
    "def extraer_valor(cadena):\n",
    "    if not cadena:  # Verifica si la cadena es None o vacía\n",
    "        return \"\"\n",
    "    # Convierte la cadena en una lista de diccionarios\n",
    "    lista_diccionarios = ast.literal_eval(cadena)\n",
    "    # Extrae los nombres y los une en un solo string\n",
    "    generos = [diccionario['name'] for diccionario in lista_diccionarios if 'name' in diccionario]\n",
    "    # Une los nombres en un string sin comillas ni llaves\n",
    "    return ', '.join(generos)  # Une los nombres en un string\n",
    "\n",
    "#Asignamos a belongs_to_collection [] llaves para que el diccionario quede en una lista.\n",
    "df['belongs_to_collection'] =  '[' + df['belongs_to_collection'] + ']'\n",
    "# Aplica la función y guarda el resultado en la columna 'genero'\n",
    "df['coleccion'] = df['belongs_to_collection'].apply(extraer_valor)\n",
    "df['genero'] = df['genres'].apply(extraer_valor)\n",
    "df['compañia_productora'] = df['production_companies'].apply(extraer_valor)\n",
    "df['ciudad_produccion'] = df['production_countries'].apply(extraer_valor)\n",
    "df['idiomas_pelicula'] = df['spoken_languages'].apply(extraer_valor)"
   ]
  },
  {
   "cell_type": "code",
   "execution_count": 235,
   "metadata": {},
   "outputs": [
    {
     "data": {
      "text/plain": [
       "' Activando cada linea por separado visualizamos la desanidacion y comparativa\\n    con el campo original, nos sive para validar si la funcion unica sirve para todos los casos '"
      ]
     },
     "execution_count": 235,
     "metadata": {},
     "output_type": "execute_result"
    }
   ],
   "source": [
    "''' Activando cada linea por separado visualizamos la desanidacion y comparativa\n",
    "    con el campo original, nos sive para validar si la funcion unica sirve para todos los casos '''\n",
    "#df[['coleccion','belongs_to_collection']]\n",
    "#df[['genero','genres']]\n",
    "#df[['compañia_productora','production_companies']]\n",
    "#df[['ciudad_produccion','production_countries']]\n",
    "#df[['idiomas_pelicula','spoken_languages']]"
   ]
  },
  {
   "cell_type": "code",
   "execution_count": 236,
   "metadata": {},
   "outputs": [],
   "source": [
    "# Validados los campos desanidados procedemos a eliminar los que no necesitamos\n",
    "df = df.drop(columns=['belongs_to_collection', 'genres', 'production_companies','production_countries','spoken_languages'])"
   ]
  },
  {
   "cell_type": "markdown",
   "metadata": {},
   "source": [
    "Convertimos algunos campos a sus tipos de datos correspondientes"
   ]
  },
  {
   "cell_type": "code",
   "execution_count": 237,
   "metadata": {},
   "outputs": [],
   "source": [
    "# Convertimos el campo a numero.\n",
    "df['budget'] = pd.to_numeric(df['budget'], errors='coerce')\n",
    "df['id'] = df['id'].astype(int)\n",
    "df['budget'] = df['budget'].astype(int)\n",
    "df['popularity'] = df['popularity'].astype(float)\n"
   ]
  },
  {
   "cell_type": "code",
   "execution_count": 238,
   "metadata": {},
   "outputs": [],
   "source": [
    "'''Campo requerido por el proyecto'''\n",
    "# Se pide crear la columna 'return' calculando el retorno de inversión, para lo cual los dos campos necesarios,\n",
    "# para esta calculo deben ser numericos, por tanto validamos que budget y revenue solo contengan valores numericos, \n",
    "# de lo contrarios los convertiremos en NaNcontiene algunos registros que son cadenas de texto, procedemos a procesarlos.\n",
    "# Convertir 'revenue' a numérico, forzando a NaN los valores no convertibles\n",
    "df['revenue'] = pd.to_numeric(df['revenue'], errors='coerce')\n",
    "# Borrar directamente los datos nulos en la columna 'revenue'\n",
    "df.dropna(subset=['revenue'], inplace=True)\n",
    "df['revenue'] = df['revenue'].astype(int)\n",
    "# De igual forma para el siguiente campo.\n",
    "df['budget'] = pd.to_numeric(df['budget'], errors='coerce')\n",
    "df.dropna(subset=['budget'], inplace=True)\n",
    "df['budget'] = df['budget'].astype(int)\n",
    "\n",
    "# Crear la columna 'return' calculando el retorno de inversión\n",
    "df['return'] = df.apply(lambda row: row['revenue'] / row['budget'] if row['budget'] and row['budget'] > 0 else 0, axis=1)"
   ]
  },
  {
   "cell_type": "code",
   "execution_count": 239,
   "metadata": {},
   "outputs": [],
   "source": [
    "'''Campo requerido por el proyecto'''\n",
    "# Convertir la columna a tipo datetime\n",
    "df['release_year'] = pd.to_datetime(df['release_date'], format='%Y-%m-%d', errors='coerce')"
   ]
  },
  {
   "cell_type": "code",
   "execution_count": 240,
   "metadata": {},
   "outputs": [],
   "source": [
    "# Convertir la columna a tipo datetime\n",
    "#df['release_date'] = pd.to_datetime(df['release_date'])\n",
    "# Dar formato a la columna de fechas\n",
    "#df['formatted_date'] = df['release_date'].dt.strftime('%Y-%d-%m')\n",
    "#df['formatted_date'] = pd.to_datetime(df['formatted_date'], format='%Y-%d-%m')\n",
    "\n",
    "# Convertir la columna a tipo datetime\n",
    "# df['release_year'] = pd.to_datetime(df['release_date'], format='%Y-%m-%d', errors='coerce')"
   ]
  },
  {
   "cell_type": "code",
   "execution_count": 241,
   "metadata": {},
   "outputs": [],
   "source": [
    "# Extraer el año y el mes en columnas separadas\n",
    "#df['year'] = df['release_date'].dt.year\n",
    "#df['month'] = df['release_date'].dt.month"
   ]
  },
  {
   "cell_type": "code",
   "execution_count": 242,
   "metadata": {},
   "outputs": [],
   "source": [
    "filtered_df = df[(df['release_date'] >= '2015-01-01')] # & (df['original_language'] == 'en')]"
   ]
  },
  {
   "cell_type": "markdown",
   "metadata": {},
   "source": [
    "Antes de proceder a la carga de los datos en los nuevos archivos CSV, procedemos a validar por ultima vez los tipos de datos y los nulos"
   ]
  },
  {
   "cell_type": "code",
   "execution_count": 243,
   "metadata": {},
   "outputs": [
    {
     "data": {
      "text/plain": [
       "budget                          int64\n",
       "id                              int64\n",
       "original_language              object\n",
       "overview                       object\n",
       "popularity                    float64\n",
       "release_date                   object\n",
       "revenue                         int64\n",
       "runtime                       float64\n",
       "status                         object\n",
       "tagline                        object\n",
       "title                          object\n",
       "vote_average                  float64\n",
       "vote_count                    float64\n",
       "coleccion                      object\n",
       "genero                         object\n",
       "compañia_productora            object\n",
       "ciudad_produccion              object\n",
       "idiomas_pelicula               object\n",
       "return                        float64\n",
       "release_year           datetime64[ns]\n",
       "dtype: object"
      ]
     },
     "execution_count": 243,
     "metadata": {},
     "output_type": "execute_result"
    }
   ],
   "source": [
    "# Por ultimo y antes de guardar los datos transformados, verificamos los tipos de datos definitivos\n",
    "df.dtypes"
   ]
  },
  {
   "cell_type": "code",
   "execution_count": 244,
   "metadata": {},
   "outputs": [
    {
     "data": {
      "text/plain": [
       "budget                 0\n",
       "id                     0\n",
       "original_language      0\n",
       "overview               0\n",
       "popularity             0\n",
       "release_date           0\n",
       "revenue                0\n",
       "runtime                0\n",
       "status                 0\n",
       "tagline                0\n",
       "title                  0\n",
       "vote_average           0\n",
       "vote_count             0\n",
       "coleccion              0\n",
       "genero                 0\n",
       "compañia_productora    0\n",
       "ciudad_produccion      0\n",
       "idiomas_pelicula       0\n",
       "return                 0\n",
       "release_year           0\n",
       "dtype: int64"
      ]
     },
     "execution_count": 244,
     "metadata": {},
     "output_type": "execute_result"
    }
   ],
   "source": [
    "# Por ultimo y antes de guardar los datos transformados, verificamos los si existen otros nulos\n",
    "df.isnull().sum().sort_values(ascending=False)"
   ]
  },
  {
   "cell_type": "code",
   "execution_count": 245,
   "metadata": {},
   "outputs": [
    {
     "data": {
      "text/plain": [
       "' Activando cada linea por separado visualizamos los registros resultantes.'"
      ]
     },
     "execution_count": 245,
     "metadata": {},
     "output_type": "execute_result"
    }
   ],
   "source": [
    "''' Activando cada linea por separado visualizamos los registros resultantes.'''\n",
    "#print(df['caracteristicas_pelicula'].iloc[0])\n",
    "#df[['overview','popularity','tagline','vote_average','vote_count','genero','ciudad_produccion','idiomas_pelicula']]"
   ]
  },
  {
   "cell_type": "code",
   "execution_count": 246,
   "metadata": {},
   "outputs": [
    {
     "data": {
      "text/plain": [
       "' De la siguiente manera podemos validar uno a uno los campos para identificar cuantos vacios\\n    tiene y determinar si se eliminan o no'"
      ]
     },
     "execution_count": 246,
     "metadata": {},
     "output_type": "execute_result"
    }
   ],
   "source": [
    "''' De la siguiente manera podemos validar uno a uno los campos para identificar cuantos vacios\n",
    "    tiene y determinar si se eliminan o no'''\n",
    "\n",
    "#vacios = (df['tagline'] == ' ').sum()\n",
    "#vacios"
   ]
  },
  {
   "cell_type": "markdown",
   "metadata": {},
   "source": [
    "Realizamos el cargue de los datos en sus archivos CSV"
   ]
  },
  {
   "cell_type": "code",
   "execution_count": 247,
   "metadata": {},
   "outputs": [],
   "source": [
    "# Cortar el dataset\n",
    "filtered_df = df[(df['release_date'] >= '2015-01-01')] # & (df['original_language'] == 'en')]\n",
    "\n",
    "\n",
    "# Debido a la restriccion de 512MB de render, debemos recortar la data, tanto de registros, como campos no necesarios.\n",
    "df_final_movies = filtered_df.head(5000)\n",
    "df_fl = df_final_movies[['popularity','release_date','release_year','title','vote_average','vote_count']]\n",
    "# Guardamos los registros en CSV\n",
    "df_fl.to_csv('Dataset/Procesados/data_movies.csv', index=False)"
   ]
  },
  {
   "cell_type": "code",
   "execution_count": 248,
   "metadata": {},
   "outputs": [
    {
     "name": "stderr",
     "output_type": "stream",
     "text": [
      "C:\\Users\\Dalgy\\AppData\\Local\\Temp\\ipykernel_19408\\1519794509.py:13: SettingWithCopyWarning: \n",
      "A value is trying to be set on a copy of a slice from a DataFrame\n",
      "\n",
      "See the caveats in the documentation: https://pandas.pydata.org/pandas-docs/stable/user_guide/indexing.html#returning-a-view-versus-a-copy\n",
      "  df_recomienda.drop_duplicates(subset='title', keep='first', inplace=True)\n"
     ]
    }
   ],
   "source": [
    "#Unificamos algunas columnas para la funcion API con modelo de recomendacion basado en la similitud del coseno.\n",
    "df['caracteristicas_pelicula'] = (\n",
    "    df['overview'] + \" \" +\n",
    "    df['popularity'].astype(str) + \" \" +\n",
    "    df['vote_average'].astype(str) + \" \" +\n",
    "    df['vote_count'].astype(str) + \" \" +\n",
    "    df['genero'] + \" \" +\n",
    "    df['idiomas_pelicula'])\n",
    "\n",
    "# Crear una nueva columna 'recomienda' (si es tu objetivo) con los mismos datos\n",
    "df_recomienda = df[['title','caracteristicas_pelicula']]\n",
    "# Eliminamos los registros duplicados en su titulo de pelicula\n",
    "df_recomienda.drop_duplicates(subset='title', keep='first', inplace=True)\n",
    "\n",
    "# Debido a la restriccion de 512MB de render, debemos recortar la data a pocos registros.\n",
    "df_final_recomienda = df_recomienda.head(4000)\n",
    "# Guardamos los registros en CSV\n",
    "df_final_recomienda.to_csv('Dataset/Procesados/data_recomienda.csv', index=False)"
   ]
  },
  {
   "cell_type": "markdown",
   "metadata": {},
   "source": [
    "Convertir a formato parquet"
   ]
  },
  {
   "cell_type": "code",
   "execution_count": 249,
   "metadata": {},
   "outputs": [],
   "source": [
    "# filtered_df.to_parquet('data.parquet', index=False)\n",
    "\n",
    "# print(\"DataFrame guardado en formato Parquet sin índice.\")"
   ]
  }
 ],
 "metadata": {
  "kernelspec": {
   "display_name": "Python 3",
   "language": "python",
   "name": "python3"
  },
  "language_info": {
   "codemirror_mode": {
    "name": "ipython",
    "version": 3
   },
   "file_extension": ".py",
   "mimetype": "text/x-python",
   "name": "python",
   "nbconvert_exporter": "python",
   "pygments_lexer": "ipython3",
   "version": "3.13.0"
  }
 },
 "nbformat": 4,
 "nbformat_minor": 2
}
